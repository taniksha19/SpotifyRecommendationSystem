{
 "cells": [
  {
   "cell_type": "code",
   "execution_count": null,
   "id": "0ad77130",
   "metadata": {},
   "outputs": [],
   "source": [
    "\n"
   ]
  },
  {
   "cell_type": "code",
   "execution_count": 7,
   "id": "3ee5fa3c",
   "metadata": {},
   "outputs": [],
   "source": [
    "import pandas as pd\n",
    "import numpy as np\n",
    "import seaborn as sns\n",
    "import matplotlib.pyplot as plt\n",
    "import matplotlib.ticker as plticker\n",
    "from imblearn.over_sampling import SMOTE\n",
    "%matplotlib inline"
   ]
  },
  {
   "cell_type": "code",
   "execution_count": 8,
   "id": "ad1413ce",
   "metadata": {},
   "outputs": [],
   "source": [
    "df = pd.read_csv('data/encoded_playlist_songs.csv')\n",
    "df_fav = pd.read_csv('data/favorite_songs.csv')"
   ]
  },
  {
   "cell_type": "code",
   "execution_count": 9,
   "id": "e4e9ce59",
   "metadata": {},
   "outputs": [
    {
     "data": {
      "text/html": [
       "<div>\n",
       "<style scoped>\n",
       "    .dataframe tbody tr th:only-of-type {\n",
       "        vertical-align: middle;\n",
       "    }\n",
       "\n",
       "    .dataframe tbody tr th {\n",
       "        vertical-align: top;\n",
       "    }\n",
       "\n",
       "    .dataframe thead th {\n",
       "        text-align: right;\n",
       "    }\n",
       "</style>\n",
       "<table border=\"1\" class=\"dataframe\">\n",
       "  <thead>\n",
       "    <tr style=\"text-align: right;\">\n",
       "      <th></th>\n",
       "      <th>track_id</th>\n",
       "      <th>length</th>\n",
       "      <th>popularity</th>\n",
       "      <th>danceability</th>\n",
       "      <th>acousticness</th>\n",
       "      <th>energy</th>\n",
       "      <th>instrumentalness</th>\n",
       "      <th>liveness</th>\n",
       "      <th>loudness</th>\n",
       "      <th>speechiness</th>\n",
       "      <th>tempo</th>\n",
       "      <th>time_signature</th>\n",
       "      <th>favorite</th>\n",
       "    </tr>\n",
       "  </thead>\n",
       "  <tbody>\n",
       "    <tr>\n",
       "      <th>0</th>\n",
       "      <td>7MAibcTli4IisCtbHKrGMh</td>\n",
       "      <td>242096</td>\n",
       "      <td>90</td>\n",
       "      <td>0.586</td>\n",
       "      <td>0.1820</td>\n",
       "      <td>0.616</td>\n",
       "      <td>0.000000</td>\n",
       "      <td>0.0927</td>\n",
       "      <td>-7.964</td>\n",
       "      <td>0.0324</td>\n",
       "      <td>148.088</td>\n",
       "      <td>4</td>\n",
       "      <td>0</td>\n",
       "    </tr>\n",
       "    <tr>\n",
       "      <th>1</th>\n",
       "      <td>5QO79kh1waicV47BqGRL3g</td>\n",
       "      <td>215626</td>\n",
       "      <td>97</td>\n",
       "      <td>0.680</td>\n",
       "      <td>0.0212</td>\n",
       "      <td>0.826</td>\n",
       "      <td>0.000012</td>\n",
       "      <td>0.5430</td>\n",
       "      <td>-5.487</td>\n",
       "      <td>0.0309</td>\n",
       "      <td>118.051</td>\n",
       "      <td>4</td>\n",
       "      <td>0</td>\n",
       "    </tr>\n",
       "    <tr>\n",
       "      <th>2</th>\n",
       "      <td>1diS6nkxMQc3wwC4G1j0bh</td>\n",
       "      <td>165506</td>\n",
       "      <td>88</td>\n",
       "      <td>0.722</td>\n",
       "      <td>0.0319</td>\n",
       "      <td>0.588</td>\n",
       "      <td>0.000000</td>\n",
       "      <td>0.1830</td>\n",
       "      <td>-5.932</td>\n",
       "      <td>0.0544</td>\n",
       "      <td>134.010</td>\n",
       "      <td>4</td>\n",
       "      <td>0</td>\n",
       "    </tr>\n",
       "    <tr>\n",
       "      <th>3</th>\n",
       "      <td>4u4NyuceXP7Uzh7XFJKCr1</td>\n",
       "      <td>170813</td>\n",
       "      <td>89</td>\n",
       "      <td>0.658</td>\n",
       "      <td>0.0106</td>\n",
       "      <td>0.634</td>\n",
       "      <td>0.000000</td>\n",
       "      <td>0.1320</td>\n",
       "      <td>-5.797</td>\n",
       "      <td>0.0413</td>\n",
       "      <td>139.980</td>\n",
       "      <td>4</td>\n",
       "      <td>0</td>\n",
       "    </tr>\n",
       "    <tr>\n",
       "      <th>4</th>\n",
       "      <td>3Ofmpyhv5UAQ70mENzB277</td>\n",
       "      <td>132780</td>\n",
       "      <td>94</td>\n",
       "      <td>0.778</td>\n",
       "      <td>0.1750</td>\n",
       "      <td>0.695</td>\n",
       "      <td>0.000000</td>\n",
       "      <td>0.1500</td>\n",
       "      <td>-6.865</td>\n",
       "      <td>0.0913</td>\n",
       "      <td>149.996</td>\n",
       "      <td>4</td>\n",
       "      <td>0</td>\n",
       "    </tr>\n",
       "  </tbody>\n",
       "</table>\n",
       "</div>"
      ],
      "text/plain": [
       "                 track_id  length  popularity  danceability  acousticness  \\\n",
       "0  7MAibcTli4IisCtbHKrGMh  242096          90         0.586        0.1820   \n",
       "1  5QO79kh1waicV47BqGRL3g  215626          97         0.680        0.0212   \n",
       "2  1diS6nkxMQc3wwC4G1j0bh  165506          88         0.722        0.0319   \n",
       "3  4u4NyuceXP7Uzh7XFJKCr1  170813          89         0.658        0.0106   \n",
       "4  3Ofmpyhv5UAQ70mENzB277  132780          94         0.778        0.1750   \n",
       "\n",
       "   energy  instrumentalness  liveness  loudness  speechiness    tempo  \\\n",
       "0   0.616          0.000000    0.0927    -7.964       0.0324  148.088   \n",
       "1   0.826          0.000012    0.5430    -5.487       0.0309  118.051   \n",
       "2   0.588          0.000000    0.1830    -5.932       0.0544  134.010   \n",
       "3   0.634          0.000000    0.1320    -5.797       0.0413  139.980   \n",
       "4   0.695          0.000000    0.1500    -6.865       0.0913  149.996   \n",
       "\n",
       "   time_signature  favorite  \n",
       "0               4         0  \n",
       "1               4         0  \n",
       "2               4         0  \n",
       "3               4         0  \n",
       "4               4         0  "
      ]
     },
     "execution_count": 9,
     "metadata": {},
     "output_type": "execute_result"
    }
   ],
   "source": [
    "df.head()"
   ]
  },
  {
   "cell_type": "code",
   "execution_count": 10,
   "id": "76a1d38a",
   "metadata": {},
   "outputs": [
    {
     "data": {
      "text/html": [
       "<div>\n",
       "<style scoped>\n",
       "    .dataframe tbody tr th:only-of-type {\n",
       "        vertical-align: middle;\n",
       "    }\n",
       "\n",
       "    .dataframe tbody tr th {\n",
       "        vertical-align: top;\n",
       "    }\n",
       "\n",
       "    .dataframe thead th {\n",
       "        text-align: right;\n",
       "    }\n",
       "</style>\n",
       "<table border=\"1\" class=\"dataframe\">\n",
       "  <thead>\n",
       "    <tr style=\"text-align: right;\">\n",
       "      <th></th>\n",
       "      <th>track_id</th>\n",
       "      <th>length</th>\n",
       "      <th>popularity</th>\n",
       "      <th>danceability</th>\n",
       "      <th>acousticness</th>\n",
       "      <th>energy</th>\n",
       "      <th>instrumentalness</th>\n",
       "      <th>liveness</th>\n",
       "      <th>loudness</th>\n",
       "      <th>speechiness</th>\n",
       "      <th>tempo</th>\n",
       "      <th>time_signature</th>\n",
       "      <th>favorite</th>\n",
       "    </tr>\n",
       "  </thead>\n",
       "  <tbody>\n",
       "    <tr>\n",
       "      <th>0</th>\n",
       "      <td>5Z2MiIZ5I3jJvvmeWMLbOQ</td>\n",
       "      <td>272373</td>\n",
       "      <td>89</td>\n",
       "      <td>0.538</td>\n",
       "      <td>0.1380</td>\n",
       "      <td>0.742</td>\n",
       "      <td>0.000047</td>\n",
       "      <td>0.0934</td>\n",
       "      <td>-5.355</td>\n",
       "      <td>0.1140</td>\n",
       "      <td>96.107</td>\n",
       "      <td>4</td>\n",
       "      <td>1</td>\n",
       "    </tr>\n",
       "    <tr>\n",
       "      <th>1</th>\n",
       "      <td>3OHfY25tqY28d16oZczHc8</td>\n",
       "      <td>153946</td>\n",
       "      <td>92</td>\n",
       "      <td>0.644</td>\n",
       "      <td>0.0543</td>\n",
       "      <td>0.728</td>\n",
       "      <td>0.169000</td>\n",
       "      <td>0.1610</td>\n",
       "      <td>-5.750</td>\n",
       "      <td>0.0351</td>\n",
       "      <td>88.993</td>\n",
       "      <td>4</td>\n",
       "      <td>1</td>\n",
       "    </tr>\n",
       "    <tr>\n",
       "      <th>2</th>\n",
       "      <td>3EPXxR3ImUwfayaurPi3cm</td>\n",
       "      <td>196373</td>\n",
       "      <td>75</td>\n",
       "      <td>0.553</td>\n",
       "      <td>0.6970</td>\n",
       "      <td>0.586</td>\n",
       "      <td>0.000000</td>\n",
       "      <td>0.0813</td>\n",
       "      <td>-6.319</td>\n",
       "      <td>0.0362</td>\n",
       "      <td>126.684</td>\n",
       "      <td>4</td>\n",
       "      <td>1</td>\n",
       "    </tr>\n",
       "    <tr>\n",
       "      <th>3</th>\n",
       "      <td>63mdJr3NMY3wReOkNE6c6W</td>\n",
       "      <td>194900</td>\n",
       "      <td>75</td>\n",
       "      <td>0.695</td>\n",
       "      <td>0.0881</td>\n",
       "      <td>0.620</td>\n",
       "      <td>0.000054</td>\n",
       "      <td>0.1110</td>\n",
       "      <td>-8.082</td>\n",
       "      <td>0.0521</td>\n",
       "      <td>150.032</td>\n",
       "      <td>4</td>\n",
       "      <td>1</td>\n",
       "    </tr>\n",
       "    <tr>\n",
       "      <th>4</th>\n",
       "      <td>0j1Ia2lQWrcXrQZI4AdJlk</td>\n",
       "      <td>184638</td>\n",
       "      <td>73</td>\n",
       "      <td>0.648</td>\n",
       "      <td>0.8860</td>\n",
       "      <td>0.308</td>\n",
       "      <td>0.077400</td>\n",
       "      <td>0.1240</td>\n",
       "      <td>-11.729</td>\n",
       "      <td>0.0400</td>\n",
       "      <td>76.997</td>\n",
       "      <td>1</td>\n",
       "      <td>1</td>\n",
       "    </tr>\n",
       "  </tbody>\n",
       "</table>\n",
       "</div>"
      ],
      "text/plain": [
       "                 track_id  length  popularity  danceability  acousticness  \\\n",
       "0  5Z2MiIZ5I3jJvvmeWMLbOQ  272373          89         0.538        0.1380   \n",
       "1  3OHfY25tqY28d16oZczHc8  153946          92         0.644        0.0543   \n",
       "2  3EPXxR3ImUwfayaurPi3cm  196373          75         0.553        0.6970   \n",
       "3  63mdJr3NMY3wReOkNE6c6W  194900          75         0.695        0.0881   \n",
       "4  0j1Ia2lQWrcXrQZI4AdJlk  184638          73         0.648        0.8860   \n",
       "\n",
       "   energy  instrumentalness  liveness  loudness  speechiness    tempo  \\\n",
       "0   0.742          0.000047    0.0934    -5.355       0.1140   96.107   \n",
       "1   0.728          0.169000    0.1610    -5.750       0.0351   88.993   \n",
       "2   0.586          0.000000    0.0813    -6.319       0.0362  126.684   \n",
       "3   0.620          0.000054    0.1110    -8.082       0.0521  150.032   \n",
       "4   0.308          0.077400    0.1240   -11.729       0.0400   76.997   \n",
       "\n",
       "   time_signature  favorite  \n",
       "0               4         1  \n",
       "1               4         1  \n",
       "2               4         1  \n",
       "3               4         1  \n",
       "4               1         1  "
      ]
     },
     "execution_count": 10,
     "metadata": {},
     "output_type": "execute_result"
    }
   ],
   "source": [
    "df_fav.head()"
   ]
  },
  {
   "cell_type": "code",
   "execution_count": 11,
   "id": "90f0c588",
   "metadata": {},
   "outputs": [
    {
     "data": {
      "text/plain": [
       "(8933, 13)"
      ]
     },
     "execution_count": 11,
     "metadata": {},
     "output_type": "execute_result"
    }
   ],
   "source": [
    "# Remove song name, artist, album\n",
    "df = pd.concat([df, df_fav], axis=0)\n",
    "df.shape"
   ]
  },
  {
   "cell_type": "code",
   "execution_count": 12,
   "id": "6829fba1",
   "metadata": {},
   "outputs": [
    {
     "data": {
      "text/plain": [
       "0    8883\n",
       "1      50\n",
       "Name: favorite, dtype: int64"
      ]
     },
     "execution_count": 12,
     "metadata": {},
     "output_type": "execute_result"
    }
   ],
   "source": [
    "df['favorite'].value_counts()"
   ]
  },
  {
   "cell_type": "markdown",
   "id": "77b4574e",
   "metadata": {},
   "source": [
    "# Data Prep Contd, Model Selection & Hyperparameter Tuning"
   ]
  },
  {
   "cell_type": "code",
   "execution_count": 13,
   "id": "78251949",
   "metadata": {},
   "outputs": [],
   "source": [
    "import sklearn\n",
    "from sklearn.pipeline import Pipeline\n",
    "from sklearn.model_selection import cross_val_score\n",
    "from sklearn.model_selection import train_test_split\n",
    "from sklearn.model_selection import GridSearchCV\n",
    "from sklearn.metrics import plot_confusion_matrix\n",
    "from sklearn import metrics\n",
    "from sklearn.metrics import f1_score\n",
    "from imblearn.over_sampling import SMOTE\n",
    "\n",
    "from sklearn.ensemble import RandomForestClassifier\n",
    "from sklearn.linear_model import LogisticRegression\n",
    "from sklearn.tree import DecisionTreeClassifier"
   ]
  },
  {
   "cell_type": "code",
   "execution_count": 14,
   "id": "27ff3b2c",
   "metadata": {},
   "outputs": [],
   "source": [
    "# Shuffle your dataset \n",
    "shuffle_df = df.sample(frac=1)\n",
    "\n",
    "# Define a size for your train set \n",
    "train_size = int(0.8 * len(df))\n",
    "\n",
    "# Split dataset \n",
    "train_set = shuffle_df[:train_size]\n",
    "test_set = shuffle_df[train_size:]"
   ]
  },
  {
   "cell_type": "code",
   "execution_count": 15,
   "id": "7c169f9b",
   "metadata": {},
   "outputs": [
    {
     "data": {
      "text/html": [
       "<div>\n",
       "<style scoped>\n",
       "    .dataframe tbody tr th:only-of-type {\n",
       "        vertical-align: middle;\n",
       "    }\n",
       "\n",
       "    .dataframe tbody tr th {\n",
       "        vertical-align: top;\n",
       "    }\n",
       "\n",
       "    .dataframe thead th {\n",
       "        text-align: right;\n",
       "    }\n",
       "</style>\n",
       "<table border=\"1\" class=\"dataframe\">\n",
       "  <thead>\n",
       "    <tr style=\"text-align: right;\">\n",
       "      <th></th>\n",
       "      <th>track_id</th>\n",
       "      <th>length</th>\n",
       "      <th>popularity</th>\n",
       "      <th>danceability</th>\n",
       "      <th>acousticness</th>\n",
       "      <th>energy</th>\n",
       "      <th>instrumentalness</th>\n",
       "      <th>liveness</th>\n",
       "      <th>loudness</th>\n",
       "      <th>speechiness</th>\n",
       "      <th>tempo</th>\n",
       "      <th>time_signature</th>\n",
       "      <th>favorite</th>\n",
       "    </tr>\n",
       "  </thead>\n",
       "  <tbody>\n",
       "    <tr>\n",
       "      <th>3550</th>\n",
       "      <td>4yaCHxeYqYqrdYLf4gT78t</td>\n",
       "      <td>173613</td>\n",
       "      <td>29</td>\n",
       "      <td>0.674</td>\n",
       "      <td>0.083800</td>\n",
       "      <td>0.540</td>\n",
       "      <td>0.01750</td>\n",
       "      <td>0.137</td>\n",
       "      <td>-9.536</td>\n",
       "      <td>0.0675</td>\n",
       "      <td>77.102</td>\n",
       "      <td>4</td>\n",
       "      <td>0</td>\n",
       "    </tr>\n",
       "    <tr>\n",
       "      <th>3925</th>\n",
       "      <td>7LMlFOPZDOhwluPF20bnE5</td>\n",
       "      <td>218837</td>\n",
       "      <td>45</td>\n",
       "      <td>0.565</td>\n",
       "      <td>0.553000</td>\n",
       "      <td>0.572</td>\n",
       "      <td>0.00154</td>\n",
       "      <td>0.179</td>\n",
       "      <td>-7.635</td>\n",
       "      <td>0.0356</td>\n",
       "      <td>107.305</td>\n",
       "      <td>4</td>\n",
       "      <td>0</td>\n",
       "    </tr>\n",
       "    <tr>\n",
       "      <th>2945</th>\n",
       "      <td>6QfnvcOKsdN4Q6exUWVuzn</td>\n",
       "      <td>244480</td>\n",
       "      <td>65</td>\n",
       "      <td>0.568</td>\n",
       "      <td>0.041100</td>\n",
       "      <td>0.835</td>\n",
       "      <td>0.00000</td>\n",
       "      <td>0.357</td>\n",
       "      <td>-6.896</td>\n",
       "      <td>0.0687</td>\n",
       "      <td>170.045</td>\n",
       "      <td>4</td>\n",
       "      <td>0</td>\n",
       "    </tr>\n",
       "    <tr>\n",
       "      <th>1171</th>\n",
       "      <td>4ha8tJppoKhJPd2QIYnINX</td>\n",
       "      <td>193103</td>\n",
       "      <td>47</td>\n",
       "      <td>0.535</td>\n",
       "      <td>0.127000</td>\n",
       "      <td>0.601</td>\n",
       "      <td>0.00000</td>\n",
       "      <td>0.132</td>\n",
       "      <td>-9.845</td>\n",
       "      <td>0.3780</td>\n",
       "      <td>84.948</td>\n",
       "      <td>4</td>\n",
       "      <td>0</td>\n",
       "    </tr>\n",
       "    <tr>\n",
       "      <th>5486</th>\n",
       "      <td>6EoRwgedzl5b26maxfd0Bt</td>\n",
       "      <td>199680</td>\n",
       "      <td>48</td>\n",
       "      <td>0.842</td>\n",
       "      <td>0.000942</td>\n",
       "      <td>0.684</td>\n",
       "      <td>0.02480</td>\n",
       "      <td>0.111</td>\n",
       "      <td>-7.750</td>\n",
       "      <td>0.0562</td>\n",
       "      <td>124.984</td>\n",
       "      <td>4</td>\n",
       "      <td>0</td>\n",
       "    </tr>\n",
       "  </tbody>\n",
       "</table>\n",
       "</div>"
      ],
      "text/plain": [
       "                    track_id  length  popularity  danceability  acousticness  \\\n",
       "3550  4yaCHxeYqYqrdYLf4gT78t  173613          29         0.674      0.083800   \n",
       "3925  7LMlFOPZDOhwluPF20bnE5  218837          45         0.565      0.553000   \n",
       "2945  6QfnvcOKsdN4Q6exUWVuzn  244480          65         0.568      0.041100   \n",
       "1171  4ha8tJppoKhJPd2QIYnINX  193103          47         0.535      0.127000   \n",
       "5486  6EoRwgedzl5b26maxfd0Bt  199680          48         0.842      0.000942   \n",
       "\n",
       "      energy  instrumentalness  liveness  loudness  speechiness    tempo  \\\n",
       "3550   0.540           0.01750     0.137    -9.536       0.0675   77.102   \n",
       "3925   0.572           0.00154     0.179    -7.635       0.0356  107.305   \n",
       "2945   0.835           0.00000     0.357    -6.896       0.0687  170.045   \n",
       "1171   0.601           0.00000     0.132    -9.845       0.3780   84.948   \n",
       "5486   0.684           0.02480     0.111    -7.750       0.0562  124.984   \n",
       "\n",
       "      time_signature  favorite  \n",
       "3550               4         0  \n",
       "3925               4         0  \n",
       "2945               4         0  \n",
       "1171               4         0  \n",
       "5486               4         0  "
      ]
     },
     "execution_count": 15,
     "metadata": {},
     "output_type": "execute_result"
    }
   ],
   "source": [
    "train_set.head()"
   ]
  },
  {
   "cell_type": "code",
   "execution_count": 16,
   "id": "14525124",
   "metadata": {},
   "outputs": [],
   "source": [
    "X=train_set.drop(columns=['favorite','track_id'])\n",
    "Y=train_set.favorite"
   ]
  },
  {
   "cell_type": "code",
   "execution_count": 17,
   "id": "2a9a7d83",
   "metadata": {},
   "outputs": [
    {
     "data": {
      "text/html": [
       "<div>\n",
       "<style scoped>\n",
       "    .dataframe tbody tr th:only-of-type {\n",
       "        vertical-align: middle;\n",
       "    }\n",
       "\n",
       "    .dataframe tbody tr th {\n",
       "        vertical-align: top;\n",
       "    }\n",
       "\n",
       "    .dataframe thead th {\n",
       "        text-align: right;\n",
       "    }\n",
       "</style>\n",
       "<table border=\"1\" class=\"dataframe\">\n",
       "  <thead>\n",
       "    <tr style=\"text-align: right;\">\n",
       "      <th></th>\n",
       "      <th>length</th>\n",
       "      <th>popularity</th>\n",
       "      <th>danceability</th>\n",
       "      <th>acousticness</th>\n",
       "      <th>energy</th>\n",
       "      <th>instrumentalness</th>\n",
       "      <th>liveness</th>\n",
       "      <th>loudness</th>\n",
       "      <th>speechiness</th>\n",
       "      <th>tempo</th>\n",
       "      <th>time_signature</th>\n",
       "    </tr>\n",
       "  </thead>\n",
       "  <tbody>\n",
       "    <tr>\n",
       "      <th>3550</th>\n",
       "      <td>173613</td>\n",
       "      <td>29</td>\n",
       "      <td>0.674</td>\n",
       "      <td>0.083800</td>\n",
       "      <td>0.540</td>\n",
       "      <td>0.01750</td>\n",
       "      <td>0.137</td>\n",
       "      <td>-9.536</td>\n",
       "      <td>0.0675</td>\n",
       "      <td>77.102</td>\n",
       "      <td>4</td>\n",
       "    </tr>\n",
       "    <tr>\n",
       "      <th>3925</th>\n",
       "      <td>218837</td>\n",
       "      <td>45</td>\n",
       "      <td>0.565</td>\n",
       "      <td>0.553000</td>\n",
       "      <td>0.572</td>\n",
       "      <td>0.00154</td>\n",
       "      <td>0.179</td>\n",
       "      <td>-7.635</td>\n",
       "      <td>0.0356</td>\n",
       "      <td>107.305</td>\n",
       "      <td>4</td>\n",
       "    </tr>\n",
       "    <tr>\n",
       "      <th>2945</th>\n",
       "      <td>244480</td>\n",
       "      <td>65</td>\n",
       "      <td>0.568</td>\n",
       "      <td>0.041100</td>\n",
       "      <td>0.835</td>\n",
       "      <td>0.00000</td>\n",
       "      <td>0.357</td>\n",
       "      <td>-6.896</td>\n",
       "      <td>0.0687</td>\n",
       "      <td>170.045</td>\n",
       "      <td>4</td>\n",
       "    </tr>\n",
       "    <tr>\n",
       "      <th>1171</th>\n",
       "      <td>193103</td>\n",
       "      <td>47</td>\n",
       "      <td>0.535</td>\n",
       "      <td>0.127000</td>\n",
       "      <td>0.601</td>\n",
       "      <td>0.00000</td>\n",
       "      <td>0.132</td>\n",
       "      <td>-9.845</td>\n",
       "      <td>0.3780</td>\n",
       "      <td>84.948</td>\n",
       "      <td>4</td>\n",
       "    </tr>\n",
       "    <tr>\n",
       "      <th>5486</th>\n",
       "      <td>199680</td>\n",
       "      <td>48</td>\n",
       "      <td>0.842</td>\n",
       "      <td>0.000942</td>\n",
       "      <td>0.684</td>\n",
       "      <td>0.02480</td>\n",
       "      <td>0.111</td>\n",
       "      <td>-7.750</td>\n",
       "      <td>0.0562</td>\n",
       "      <td>124.984</td>\n",
       "      <td>4</td>\n",
       "    </tr>\n",
       "  </tbody>\n",
       "</table>\n",
       "</div>"
      ],
      "text/plain": [
       "      length  popularity  danceability  acousticness  energy  \\\n",
       "3550  173613          29         0.674      0.083800   0.540   \n",
       "3925  218837          45         0.565      0.553000   0.572   \n",
       "2945  244480          65         0.568      0.041100   0.835   \n",
       "1171  193103          47         0.535      0.127000   0.601   \n",
       "5486  199680          48         0.842      0.000942   0.684   \n",
       "\n",
       "      instrumentalness  liveness  loudness  speechiness    tempo  \\\n",
       "3550           0.01750     0.137    -9.536       0.0675   77.102   \n",
       "3925           0.00154     0.179    -7.635       0.0356  107.305   \n",
       "2945           0.00000     0.357    -6.896       0.0687  170.045   \n",
       "1171           0.00000     0.132    -9.845       0.3780   84.948   \n",
       "5486           0.02480     0.111    -7.750       0.0562  124.984   \n",
       "\n",
       "      time_signature  \n",
       "3550               4  \n",
       "3925               4  \n",
       "2945               4  \n",
       "1171               4  \n",
       "5486               4  "
      ]
     },
     "execution_count": 17,
     "metadata": {},
     "output_type": "execute_result"
    }
   ],
   "source": [
    "X.head()"
   ]
  },
  {
   "cell_type": "code",
   "execution_count": 18,
   "id": "502c42a8",
   "metadata": {},
   "outputs": [
    {
     "data": {
      "text/plain": [
       "(7146,)"
      ]
     },
     "execution_count": 18,
     "metadata": {},
     "output_type": "execute_result"
    }
   ],
   "source": [
    "Y.shape"
   ]
  },
  {
   "cell_type": "code",
   "execution_count": 19,
   "id": "b0db0eb3",
   "metadata": {},
   "outputs": [
    {
     "data": {
      "text/plain": [
       "0    7102\n",
       "1      44\n",
       "Name: favorite, dtype: int64"
      ]
     },
     "execution_count": 19,
     "metadata": {},
     "output_type": "execute_result"
    }
   ],
   "source": [
    "Y.value_counts()"
   ]
  },
  {
   "cell_type": "code",
   "execution_count": 20,
   "id": "6b567a21",
   "metadata": {
    "scrolled": true
   },
   "outputs": [],
   "source": [
    "# Train / Split Data\n",
    "oversample = SMOTE()\n",
    "X_train, y_train = oversample.fit_resample(X, Y) "
   ]
  },
  {
   "cell_type": "code",
   "execution_count": 21,
   "id": "75f0c9c6",
   "metadata": {},
   "outputs": [
    {
     "data": {
      "text/html": [
       "<div>\n",
       "<style scoped>\n",
       "    .dataframe tbody tr th:only-of-type {\n",
       "        vertical-align: middle;\n",
       "    }\n",
       "\n",
       "    .dataframe tbody tr th {\n",
       "        vertical-align: top;\n",
       "    }\n",
       "\n",
       "    .dataframe thead th {\n",
       "        text-align: right;\n",
       "    }\n",
       "</style>\n",
       "<table border=\"1\" class=\"dataframe\">\n",
       "  <thead>\n",
       "    <tr style=\"text-align: right;\">\n",
       "      <th></th>\n",
       "      <th>length</th>\n",
       "      <th>popularity</th>\n",
       "      <th>danceability</th>\n",
       "      <th>acousticness</th>\n",
       "      <th>energy</th>\n",
       "      <th>instrumentalness</th>\n",
       "      <th>liveness</th>\n",
       "      <th>loudness</th>\n",
       "      <th>speechiness</th>\n",
       "      <th>tempo</th>\n",
       "      <th>time_signature</th>\n",
       "    </tr>\n",
       "  </thead>\n",
       "  <tbody>\n",
       "    <tr>\n",
       "      <th>0</th>\n",
       "      <td>173613</td>\n",
       "      <td>29</td>\n",
       "      <td>0.674</td>\n",
       "      <td>0.083800</td>\n",
       "      <td>0.540</td>\n",
       "      <td>0.01750</td>\n",
       "      <td>0.137</td>\n",
       "      <td>-9.536</td>\n",
       "      <td>0.0675</td>\n",
       "      <td>77.102</td>\n",
       "      <td>4</td>\n",
       "    </tr>\n",
       "    <tr>\n",
       "      <th>1</th>\n",
       "      <td>218837</td>\n",
       "      <td>45</td>\n",
       "      <td>0.565</td>\n",
       "      <td>0.553000</td>\n",
       "      <td>0.572</td>\n",
       "      <td>0.00154</td>\n",
       "      <td>0.179</td>\n",
       "      <td>-7.635</td>\n",
       "      <td>0.0356</td>\n",
       "      <td>107.305</td>\n",
       "      <td>4</td>\n",
       "    </tr>\n",
       "    <tr>\n",
       "      <th>2</th>\n",
       "      <td>244480</td>\n",
       "      <td>65</td>\n",
       "      <td>0.568</td>\n",
       "      <td>0.041100</td>\n",
       "      <td>0.835</td>\n",
       "      <td>0.00000</td>\n",
       "      <td>0.357</td>\n",
       "      <td>-6.896</td>\n",
       "      <td>0.0687</td>\n",
       "      <td>170.045</td>\n",
       "      <td>4</td>\n",
       "    </tr>\n",
       "    <tr>\n",
       "      <th>3</th>\n",
       "      <td>193103</td>\n",
       "      <td>47</td>\n",
       "      <td>0.535</td>\n",
       "      <td>0.127000</td>\n",
       "      <td>0.601</td>\n",
       "      <td>0.00000</td>\n",
       "      <td>0.132</td>\n",
       "      <td>-9.845</td>\n",
       "      <td>0.3780</td>\n",
       "      <td>84.948</td>\n",
       "      <td>4</td>\n",
       "    </tr>\n",
       "    <tr>\n",
       "      <th>4</th>\n",
       "      <td>199680</td>\n",
       "      <td>48</td>\n",
       "      <td>0.842</td>\n",
       "      <td>0.000942</td>\n",
       "      <td>0.684</td>\n",
       "      <td>0.02480</td>\n",
       "      <td>0.111</td>\n",
       "      <td>-7.750</td>\n",
       "      <td>0.0562</td>\n",
       "      <td>124.984</td>\n",
       "      <td>4</td>\n",
       "    </tr>\n",
       "  </tbody>\n",
       "</table>\n",
       "</div>"
      ],
      "text/plain": [
       "   length  popularity  danceability  acousticness  energy  instrumentalness  \\\n",
       "0  173613          29         0.674      0.083800   0.540           0.01750   \n",
       "1  218837          45         0.565      0.553000   0.572           0.00154   \n",
       "2  244480          65         0.568      0.041100   0.835           0.00000   \n",
       "3  193103          47         0.535      0.127000   0.601           0.00000   \n",
       "4  199680          48         0.842      0.000942   0.684           0.02480   \n",
       "\n",
       "   liveness  loudness  speechiness    tempo  time_signature  \n",
       "0     0.137    -9.536       0.0675   77.102               4  \n",
       "1     0.179    -7.635       0.0356  107.305               4  \n",
       "2     0.357    -6.896       0.0687  170.045               4  \n",
       "3     0.132    -9.845       0.3780   84.948               4  \n",
       "4     0.111    -7.750       0.0562  124.984               4  "
      ]
     },
     "execution_count": 21,
     "metadata": {},
     "output_type": "execute_result"
    }
   ],
   "source": [
    "X_train.head()"
   ]
  },
  {
   "cell_type": "code",
   "execution_count": 22,
   "id": "7df30e55",
   "metadata": {},
   "outputs": [
    {
     "data": {
      "text/plain": [
       "0    7102\n",
       "1    7102\n",
       "Name: favorite, dtype: int64"
      ]
     },
     "execution_count": 22,
     "metadata": {},
     "output_type": "execute_result"
    }
   ],
   "source": [
    "y_train.value_counts()"
   ]
  },
  {
   "cell_type": "code",
   "execution_count": 23,
   "id": "e0d571c7",
   "metadata": {},
   "outputs": [
    {
     "data": {
      "text/html": [
       "<div>\n",
       "<style scoped>\n",
       "    .dataframe tbody tr th:only-of-type {\n",
       "        vertical-align: middle;\n",
       "    }\n",
       "\n",
       "    .dataframe tbody tr th {\n",
       "        vertical-align: top;\n",
       "    }\n",
       "\n",
       "    .dataframe thead th {\n",
       "        text-align: right;\n",
       "    }\n",
       "</style>\n",
       "<table border=\"1\" class=\"dataframe\">\n",
       "  <thead>\n",
       "    <tr style=\"text-align: right;\">\n",
       "      <th></th>\n",
       "      <th>track_id</th>\n",
       "      <th>length</th>\n",
       "      <th>popularity</th>\n",
       "      <th>danceability</th>\n",
       "      <th>acousticness</th>\n",
       "      <th>energy</th>\n",
       "      <th>instrumentalness</th>\n",
       "      <th>liveness</th>\n",
       "      <th>loudness</th>\n",
       "      <th>speechiness</th>\n",
       "      <th>tempo</th>\n",
       "      <th>time_signature</th>\n",
       "      <th>favorite</th>\n",
       "    </tr>\n",
       "  </thead>\n",
       "  <tbody>\n",
       "    <tr>\n",
       "      <th>4442</th>\n",
       "      <td>4oRDt0qQeY4XQOQWYOQUmt</td>\n",
       "      <td>275106</td>\n",
       "      <td>40</td>\n",
       "      <td>0.748</td>\n",
       "      <td>0.003480</td>\n",
       "      <td>0.7990</td>\n",
       "      <td>0.000002</td>\n",
       "      <td>0.103</td>\n",
       "      <td>-9.322</td>\n",
       "      <td>0.0438</td>\n",
       "      <td>105.569</td>\n",
       "      <td>4</td>\n",
       "      <td>0</td>\n",
       "    </tr>\n",
       "    <tr>\n",
       "      <th>2799</th>\n",
       "      <td>16vXR0dOUTYtz5OtkXKFkT</td>\n",
       "      <td>226293</td>\n",
       "      <td>0</td>\n",
       "      <td>0.371</td>\n",
       "      <td>0.000674</td>\n",
       "      <td>0.8380</td>\n",
       "      <td>0.000009</td>\n",
       "      <td>0.202</td>\n",
       "      <td>-5.534</td>\n",
       "      <td>0.0617</td>\n",
       "      <td>177.494</td>\n",
       "      <td>4</td>\n",
       "      <td>0</td>\n",
       "    </tr>\n",
       "    <tr>\n",
       "      <th>91</th>\n",
       "      <td>2Y3USTCETS4xbjJOzT1Icm</td>\n",
       "      <td>176382</td>\n",
       "      <td>77</td>\n",
       "      <td>0.921</td>\n",
       "      <td>0.217000</td>\n",
       "      <td>0.7180</td>\n",
       "      <td>0.000000</td>\n",
       "      <td>0.189</td>\n",
       "      <td>-3.545</td>\n",
       "      <td>0.2990</td>\n",
       "      <td>141.060</td>\n",
       "      <td>4</td>\n",
       "      <td>0</td>\n",
       "    </tr>\n",
       "    <tr>\n",
       "      <th>8240</th>\n",
       "      <td>47J2TBfDpGQUfHkErP78Tw</td>\n",
       "      <td>143466</td>\n",
       "      <td>52</td>\n",
       "      <td>0.328</td>\n",
       "      <td>0.923000</td>\n",
       "      <td>0.2930</td>\n",
       "      <td>0.030200</td>\n",
       "      <td>0.134</td>\n",
       "      <td>-14.610</td>\n",
       "      <td>0.0295</td>\n",
       "      <td>77.476</td>\n",
       "      <td>3</td>\n",
       "      <td>0</td>\n",
       "    </tr>\n",
       "    <tr>\n",
       "      <th>6580</th>\n",
       "      <td>4Wm2MlcN6f3XnGIm1TM5pQ</td>\n",
       "      <td>253960</td>\n",
       "      <td>20</td>\n",
       "      <td>0.467</td>\n",
       "      <td>0.801000</td>\n",
       "      <td>0.0365</td>\n",
       "      <td>0.026800</td>\n",
       "      <td>0.285</td>\n",
       "      <td>-29.199</td>\n",
       "      <td>0.0337</td>\n",
       "      <td>98.592</td>\n",
       "      <td>4</td>\n",
       "      <td>0</td>\n",
       "    </tr>\n",
       "  </tbody>\n",
       "</table>\n",
       "</div>"
      ],
      "text/plain": [
       "                    track_id  length  popularity  danceability  acousticness  \\\n",
       "4442  4oRDt0qQeY4XQOQWYOQUmt  275106          40         0.748      0.003480   \n",
       "2799  16vXR0dOUTYtz5OtkXKFkT  226293           0         0.371      0.000674   \n",
       "91    2Y3USTCETS4xbjJOzT1Icm  176382          77         0.921      0.217000   \n",
       "8240  47J2TBfDpGQUfHkErP78Tw  143466          52         0.328      0.923000   \n",
       "6580  4Wm2MlcN6f3XnGIm1TM5pQ  253960          20         0.467      0.801000   \n",
       "\n",
       "      energy  instrumentalness  liveness  loudness  speechiness    tempo  \\\n",
       "4442  0.7990          0.000002     0.103    -9.322       0.0438  105.569   \n",
       "2799  0.8380          0.000009     0.202    -5.534       0.0617  177.494   \n",
       "91    0.7180          0.000000     0.189    -3.545       0.2990  141.060   \n",
       "8240  0.2930          0.030200     0.134   -14.610       0.0295   77.476   \n",
       "6580  0.0365          0.026800     0.285   -29.199       0.0337   98.592   \n",
       "\n",
       "      time_signature  favorite  \n",
       "4442               4         0  \n",
       "2799               4         0  \n",
       "91                 4         0  \n",
       "8240               3         0  \n",
       "6580               4         0  "
      ]
     },
     "execution_count": 23,
     "metadata": {},
     "output_type": "execute_result"
    }
   ],
   "source": [
    "test_set.head()"
   ]
  },
  {
   "cell_type": "code",
   "execution_count": 25,
   "id": "cfcdebb9",
   "metadata": {},
   "outputs": [],
   "source": [
    "# Setting test datasets\n",
    "X_test = test_set.drop(columns=['favorite', 'track_id'])\n",
    "y_test = test_set['favorite']"
   ]
  },
  {
   "cell_type": "code",
   "execution_count": 26,
   "id": "046e1b55",
   "metadata": {},
   "outputs": [
    {
     "data": {
      "text/html": [
       "<div>\n",
       "<style scoped>\n",
       "    .dataframe tbody tr th:only-of-type {\n",
       "        vertical-align: middle;\n",
       "    }\n",
       "\n",
       "    .dataframe tbody tr th {\n",
       "        vertical-align: top;\n",
       "    }\n",
       "\n",
       "    .dataframe thead th {\n",
       "        text-align: right;\n",
       "    }\n",
       "</style>\n",
       "<table border=\"1\" class=\"dataframe\">\n",
       "  <thead>\n",
       "    <tr style=\"text-align: right;\">\n",
       "      <th></th>\n",
       "      <th>length</th>\n",
       "      <th>popularity</th>\n",
       "      <th>danceability</th>\n",
       "      <th>acousticness</th>\n",
       "      <th>energy</th>\n",
       "      <th>instrumentalness</th>\n",
       "      <th>liveness</th>\n",
       "      <th>loudness</th>\n",
       "      <th>speechiness</th>\n",
       "      <th>tempo</th>\n",
       "      <th>time_signature</th>\n",
       "    </tr>\n",
       "  </thead>\n",
       "  <tbody>\n",
       "    <tr>\n",
       "      <th>4442</th>\n",
       "      <td>275106</td>\n",
       "      <td>40</td>\n",
       "      <td>0.748</td>\n",
       "      <td>0.003480</td>\n",
       "      <td>0.7990</td>\n",
       "      <td>0.000002</td>\n",
       "      <td>0.103</td>\n",
       "      <td>-9.322</td>\n",
       "      <td>0.0438</td>\n",
       "      <td>105.569</td>\n",
       "      <td>4</td>\n",
       "    </tr>\n",
       "    <tr>\n",
       "      <th>2799</th>\n",
       "      <td>226293</td>\n",
       "      <td>0</td>\n",
       "      <td>0.371</td>\n",
       "      <td>0.000674</td>\n",
       "      <td>0.8380</td>\n",
       "      <td>0.000009</td>\n",
       "      <td>0.202</td>\n",
       "      <td>-5.534</td>\n",
       "      <td>0.0617</td>\n",
       "      <td>177.494</td>\n",
       "      <td>4</td>\n",
       "    </tr>\n",
       "    <tr>\n",
       "      <th>91</th>\n",
       "      <td>176382</td>\n",
       "      <td>77</td>\n",
       "      <td>0.921</td>\n",
       "      <td>0.217000</td>\n",
       "      <td>0.7180</td>\n",
       "      <td>0.000000</td>\n",
       "      <td>0.189</td>\n",
       "      <td>-3.545</td>\n",
       "      <td>0.2990</td>\n",
       "      <td>141.060</td>\n",
       "      <td>4</td>\n",
       "    </tr>\n",
       "    <tr>\n",
       "      <th>8240</th>\n",
       "      <td>143466</td>\n",
       "      <td>52</td>\n",
       "      <td>0.328</td>\n",
       "      <td>0.923000</td>\n",
       "      <td>0.2930</td>\n",
       "      <td>0.030200</td>\n",
       "      <td>0.134</td>\n",
       "      <td>-14.610</td>\n",
       "      <td>0.0295</td>\n",
       "      <td>77.476</td>\n",
       "      <td>3</td>\n",
       "    </tr>\n",
       "    <tr>\n",
       "      <th>6580</th>\n",
       "      <td>253960</td>\n",
       "      <td>20</td>\n",
       "      <td>0.467</td>\n",
       "      <td>0.801000</td>\n",
       "      <td>0.0365</td>\n",
       "      <td>0.026800</td>\n",
       "      <td>0.285</td>\n",
       "      <td>-29.199</td>\n",
       "      <td>0.0337</td>\n",
       "      <td>98.592</td>\n",
       "      <td>4</td>\n",
       "    </tr>\n",
       "  </tbody>\n",
       "</table>\n",
       "</div>"
      ],
      "text/plain": [
       "      length  popularity  danceability  acousticness  energy  \\\n",
       "4442  275106          40         0.748      0.003480  0.7990   \n",
       "2799  226293           0         0.371      0.000674  0.8380   \n",
       "91    176382          77         0.921      0.217000  0.7180   \n",
       "8240  143466          52         0.328      0.923000  0.2930   \n",
       "6580  253960          20         0.467      0.801000  0.0365   \n",
       "\n",
       "      instrumentalness  liveness  loudness  speechiness    tempo  \\\n",
       "4442          0.000002     0.103    -9.322       0.0438  105.569   \n",
       "2799          0.000009     0.202    -5.534       0.0617  177.494   \n",
       "91            0.000000     0.189    -3.545       0.2990  141.060   \n",
       "8240          0.030200     0.134   -14.610       0.0295   77.476   \n",
       "6580          0.026800     0.285   -29.199       0.0337   98.592   \n",
       "\n",
       "      time_signature  \n",
       "4442               4  \n",
       "2799               4  \n",
       "91                 4  \n",
       "8240               3  \n",
       "6580               4  "
      ]
     },
     "execution_count": 26,
     "metadata": {},
     "output_type": "execute_result"
    }
   ],
   "source": [
    "X_test.head()"
   ]
  },
  {
   "cell_type": "code",
   "execution_count": 27,
   "id": "d101b163",
   "metadata": {},
   "outputs": [
    {
     "data": {
      "text/plain": [
       "0    1781\n",
       "1       6\n",
       "Name: favorite, dtype: int64"
      ]
     },
     "execution_count": 27,
     "metadata": {},
     "output_type": "execute_result"
    }
   ],
   "source": [
    "y_test.value_counts()"
   ]
  },
  {
   "cell_type": "markdown",
   "id": "ead4c9c2",
   "metadata": {},
   "source": [
    "# Testing Models"
   ]
  },
  {
   "cell_type": "code",
   "execution_count": 29,
   "id": "22a8ac4c",
   "metadata": {},
   "outputs": [
    {
     "name": "stdout",
     "output_type": "stream",
     "text": [
      "0.8773953892319417\n",
      "CPU times: total: 766 ms\n",
      "Wall time: 935 ms\n"
     ]
    }
   ],
   "source": [
    "%%time\n",
    "# Logistic Regression\n",
    "lr = LogisticRegression(solver='lbfgs', max_iter=400).fit(X_train, y_train)\n",
    "lr_scores = cross_val_score(lr, X_train, y_train, cv=10, scoring=\"f1\")\n",
    "print(np.mean(lr_scores))"
   ]
  },
  {
   "cell_type": "code",
   "execution_count": 30,
   "id": "4840cb0c",
   "metadata": {},
   "outputs": [
    {
     "name": "stderr",
     "output_type": "stream",
     "text": [
      "C:\\Users\\HP\\anaconda3\\lib\\site-packages\\sklearn\\utils\\deprecation.py:87: FutureWarning: Function plot_confusion_matrix is deprecated; Function `plot_confusion_matrix` is deprecated in 1.0 and will be removed in 1.2. Use one of the class methods: ConfusionMatrixDisplay.from_predictions or ConfusionMatrixDisplay.from_estimator.\n",
      "  warnings.warn(msg, category=FutureWarning)\n"
     ]
    },
    {
     "data": {
      "text/plain": [
       "<sklearn.metrics._plot.confusion_matrix.ConfusionMatrixDisplay at 0x19529d67d90>"
      ]
     },
     "execution_count": 30,
     "metadata": {},
     "output_type": "execute_result"
    },
    {
     "data": {
      "image/png": "[encoded data removed]",
      "text/plain": [
       "<Figure size 432x288 with 2 Axes>"
      ]
     },
     "metadata": {
      "needs_background": "light"
     },
     "output_type": "display_data"
    }
   ],
   "source": [
    "# Logistic Regression confusion matrix\n",
    "lr_preds = lr.predict(X_train)\n",
    "plot_confusion_matrix(lr, X_train, y_train)"
   ]
  },
  {
   "cell_type": "code",
   "execution_count": 31,
   "id": "617a64a9",
   "metadata": {},
   "outputs": [
    {
     "data": {
      "text/plain": [
       "{'max_depth': 30}"
      ]
     },
     "execution_count": 31,
     "metadata": {},
     "output_type": "execute_result"
    }
   ],
   "source": [
    "# Hyperparameter optimization for Decision Tree Classifier\n",
    "parameters = {\n",
    "    'max_depth':[3, 4, 5, 6, 10, 15,20,30],\n",
    "}\n",
    "dtc = Pipeline([('CV',GridSearchCV(DecisionTreeClassifier(), parameters, cv = 5))])\n",
    "dtc.fit(X_train, y_train)\n",
    "dtc.named_steps['CV'].best_params_"
   ]
  },
  {
   "cell_type": "code",
   "execution_count": 32,
   "id": "79863b0a",
   "metadata": {},
   "outputs": [
    {
     "name": "stdout",
     "output_type": "stream",
     "text": [
      "CPU times: total: 2.17 s\n",
      "Wall time: 2.78 s\n"
     ]
    },
    {
     "data": {
      "text/plain": [
       "0.9902560676849037"
      ]
     },
     "execution_count": 32,
     "metadata": {},
     "output_type": "execute_result"
    }
   ],
   "source": [
    "%%time\n",
    "# Decision Tree Classifier\n",
    "dt = DecisionTreeClassifier(max_depth=30).fit(X_train, y_train)\n",
    "dt_scores = cross_val_score(dt, X_train, y_train, cv=10, scoring=\"f1\")\n",
    "np.mean(dt_scores)"
   ]
  },
  {
   "cell_type": "code",
   "execution_count": 33,
   "id": "91bf433b",
   "metadata": {},
   "outputs": [
    {
     "name": "stderr",
     "output_type": "stream",
     "text": [
      "C:\\Users\\HP\\anaconda3\\lib\\site-packages\\sklearn\\utils\\deprecation.py:87: FutureWarning: Function plot_confusion_matrix is deprecated; Function `plot_confusion_matrix` is deprecated in 1.0 and will be removed in 1.2. Use one of the class methods: ConfusionMatrixDisplay.from_predictions or ConfusionMatrixDisplay.from_estimator.\n",
      "  warnings.warn(msg, category=FutureWarning)\n"
     ]
    },
    {
     "data": {
      "text/plain": [
       "<sklearn.metrics._plot.confusion_matrix.ConfusionMatrixDisplay at 0x19529e23190>"
      ]
     },
     "execution_count": 33,
     "metadata": {},
     "output_type": "execute_result"
    },
    {
     "data": {
      "image/png": "[encoded data removed]",
      "text/plain": [
       "<Figure size 432x288 with 2 Axes>"
      ]
     },
     "metadata": {
      "needs_background": "light"
     },
     "output_type": "display_data"
    }
   ],
   "source": [
    "# Decision Tree Classifier confusion matrix\n",
    "plot_confusion_matrix(dt, X_train, y_train)"
   ]
  },
  {
   "cell_type": "code",
   "execution_count": 34,
   "id": "e619991c",
   "metadata": {},
   "outputs": [
    {
     "name": "stdout",
     "output_type": "stream",
     "text": [
      "CPU times: total: 21.9 s\n",
      "Wall time: 27.7 s\n"
     ]
    },
    {
     "data": {
      "text/plain": [
       "{'max_depth': 20, 'n_estimators': 10}"
      ]
     },
     "execution_count": 34,
     "metadata": {},
     "output_type": "execute_result"
    }
   ],
   "source": [
    "%%time\n",
    "# Hyperparameter optimization of RandomForestClassifier\n",
    "parameters = {\n",
    "    'max_depth':[3, 6,12,15,20],\n",
    "    'n_estimators':[10, 20,30]\n",
    "}\n",
    "clf = Pipeline([('CV',GridSearchCV(RandomForestClassifier(), parameters, cv = 5))])\n",
    "clf.fit(X_train, y_train)\n",
    "clf.named_steps['CV'].best_params_"
   ]
  },
  {
   "cell_type": "code",
   "execution_count": 35,
   "id": "5203afb0",
   "metadata": {},
   "outputs": [
    {
     "name": "stdout",
     "output_type": "stream",
     "text": [
      "CPU times: total: 3.36 s\n",
      "Wall time: 4.42 s\n"
     ]
    },
    {
     "data": {
      "text/plain": [
       "0.9934198839794544"
      ]
     },
     "execution_count": 35,
     "metadata": {},
     "output_type": "execute_result"
    }
   ],
   "source": [
    "%%time\n",
    "# RandomForestClassifier\n",
    "rf = Pipeline([('rf', RandomForestClassifier(n_estimators = 10, max_depth = 20).fit(X_train, y_train))])\n",
    "rf_scores = cross_val_score(rf, X_train, y_train, cv=10, scoring=\"f1\")\n",
    "np.mean(rf_scores)"
   ]
  },
  {
   "cell_type": "code",
   "execution_count": 38,
   "id": "066f6af7",
   "metadata": {},
   "outputs": [
    {
     "name": "stderr",
     "output_type": "stream",
     "text": [
      "C:\\Users\\HP\\anaconda3\\lib\\site-packages\\sklearn\\utils\\deprecation.py:87: FutureWarning: Function plot_confusion_matrix is deprecated; Function `plot_confusion_matrix` is deprecated in 1.0 and will be removed in 1.2. Use one of the class methods: ConfusionMatrixDisplay.from_predictions or ConfusionMatrixDisplay.from_estimator.\n",
      "  warnings.warn(msg, category=FutureWarning)\n"
     ]
    },
    {
     "data": {
      "text/plain": [
       "<sklearn.metrics._plot.confusion_matrix.ConfusionMatrixDisplay at 0x19527fa8370>"
      ]
     },
     "execution_count": 38,
     "metadata": {},
     "output_type": "execute_result"
    },
    {
     "data": {
      "image/png": "[encoded data removed]",
      "text/plain": [
       "<Figure size 432x288 with 2 Axes>"
      ]
     },
     "metadata": {
      "needs_background": "light"
     },
     "output_type": "display_data"
    }
   ],
   "source": [
    "plot_confusion_matrix(rf, X_train, y_train)"
   ]
  },
  {
   "cell_type": "markdown",
   "id": "8d0696a8",
   "metadata": {},
   "source": [
    "Using DecisionTreeClassifier for recommendation algorithm"
   ]
  },
  {
   "cell_type": "code",
   "execution_count": 39,
   "id": "04363644",
   "metadata": {},
   "outputs": [
    {
     "data": {
      "text/plain": [
       "0    1781\n",
       "1       6\n",
       "Name: favorite, dtype: int64"
      ]
     },
     "execution_count": 39,
     "metadata": {},
     "output_type": "execute_result"
    }
   ],
   "source": [
    "# Checking for imbalance\n",
    "y_test.value_counts()"
   ]
  },
  {
   "cell_type": "code",
   "execution_count": 40,
   "id": "c00044d5",
   "metadata": {},
   "outputs": [
    {
     "data": {
      "text/plain": [
       "0.9865696698377169"
      ]
     },
     "execution_count": 40,
     "metadata": {},
     "output_type": "execute_result"
    }
   ],
   "source": [
    "# Building a pipeline to use on regular data\n",
    "from sklearn.pipeline import make_pipeline\n",
    "from sklearn.preprocessing import StandardScaler\n",
    "\n",
    "pipe = make_pipeline(StandardScaler(), DecisionTreeClassifier(max_depth=30))\n",
    "pipe.fit(X_train, y_train)  # apply scaling on training data\n",
    "Pipeline(steps=[('standardscaler', StandardScaler()),\n",
    "                ('dt', DecisionTreeClassifier(max_depth=30))])\n",
    "\n",
    "pipe.score(X_test, y_test)"
   ]
  },
  {
   "cell_type": "code",
   "execution_count": 41,
   "id": "d308e4c7",
   "metadata": {},
   "outputs": [
    {
     "name": "stderr",
     "output_type": "stream",
     "text": [
      "C:\\Users\\HP\\anaconda3\\lib\\site-packages\\sklearn\\utils\\deprecation.py:87: FutureWarning: Function plot_confusion_matrix is deprecated; Function `plot_confusion_matrix` is deprecated in 1.0 and will be removed in 1.2. Use one of the class methods: ConfusionMatrixDisplay.from_predictions or ConfusionMatrixDisplay.from_estimator.\n",
      "  warnings.warn(msg, category=FutureWarning)\n"
     ]
    },
    {
     "data": {
      "text/plain": [
       "<sklearn.metrics._plot.confusion_matrix.ConfusionMatrixDisplay at 0x1952b233850>"
      ]
     },
     "execution_count": 41,
     "metadata": {},
     "output_type": "execute_result"
    },
    {
     "data": {
      "image/png": "[encoded data removed]",
      "text/plain": [
       "<Figure size 432x288 with 2 Axes>"
      ]
     },
     "metadata": {
      "needs_background": "light"
     },
     "output_type": "display_data"
    }
   ],
   "source": [
    "plot_confusion_matrix(dt, X_test, y_test)"
   ]
  },
  {
   "cell_type": "markdown",
   "id": "97f0571b",
   "metadata": {},
   "source": [
    "# Predicting Songs"
   ]
  },
  {
   "cell_type": "code",
   "execution_count": 53,
   "id": "802045ca",
   "metadata": {},
   "outputs": [
    {
     "data": {
      "text/html": [
       "<div>\n",
       "<style scoped>\n",
       "    .dataframe tbody tr th:only-of-type {\n",
       "        vertical-align: middle;\n",
       "    }\n",
       "\n",
       "    .dataframe tbody tr th {\n",
       "        vertical-align: top;\n",
       "    }\n",
       "\n",
       "    .dataframe thead th {\n",
       "        text-align: right;\n",
       "    }\n",
       "</style>\n",
       "<table border=\"1\" class=\"dataframe\">\n",
       "  <thead>\n",
       "    <tr style=\"text-align: right;\">\n",
       "      <th></th>\n",
       "      <th>track_id</th>\n",
       "      <th>length</th>\n",
       "      <th>popularity</th>\n",
       "      <th>danceability</th>\n",
       "      <th>acousticness</th>\n",
       "      <th>energy</th>\n",
       "      <th>instrumentalness</th>\n",
       "      <th>liveness</th>\n",
       "      <th>loudness</th>\n",
       "      <th>speechiness</th>\n",
       "      <th>tempo</th>\n",
       "      <th>time_signature</th>\n",
       "      <th>favorite</th>\n",
       "    </tr>\n",
       "  </thead>\n",
       "  <tbody>\n",
       "    <tr>\n",
       "      <th>0</th>\n",
       "      <td>7MAibcTli4IisCtbHKrGMh</td>\n",
       "      <td>242096</td>\n",
       "      <td>90</td>\n",
       "      <td>0.586</td>\n",
       "      <td>0.1820</td>\n",
       "      <td>0.616</td>\n",
       "      <td>0.000000</td>\n",
       "      <td>0.0927</td>\n",
       "      <td>-7.964</td>\n",
       "      <td>0.0324</td>\n",
       "      <td>148.088</td>\n",
       "      <td>4</td>\n",
       "      <td>0</td>\n",
       "    </tr>\n",
       "    <tr>\n",
       "      <th>1</th>\n",
       "      <td>5QO79kh1waicV47BqGRL3g</td>\n",
       "      <td>215626</td>\n",
       "      <td>97</td>\n",
       "      <td>0.680</td>\n",
       "      <td>0.0212</td>\n",
       "      <td>0.826</td>\n",
       "      <td>0.000012</td>\n",
       "      <td>0.5430</td>\n",
       "      <td>-5.487</td>\n",
       "      <td>0.0309</td>\n",
       "      <td>118.051</td>\n",
       "      <td>4</td>\n",
       "      <td>0</td>\n",
       "    </tr>\n",
       "    <tr>\n",
       "      <th>2</th>\n",
       "      <td>1diS6nkxMQc3wwC4G1j0bh</td>\n",
       "      <td>165506</td>\n",
       "      <td>88</td>\n",
       "      <td>0.722</td>\n",
       "      <td>0.0319</td>\n",
       "      <td>0.588</td>\n",
       "      <td>0.000000</td>\n",
       "      <td>0.1830</td>\n",
       "      <td>-5.932</td>\n",
       "      <td>0.0544</td>\n",
       "      <td>134.010</td>\n",
       "      <td>4</td>\n",
       "      <td>0</td>\n",
       "    </tr>\n",
       "    <tr>\n",
       "      <th>3</th>\n",
       "      <td>4u4NyuceXP7Uzh7XFJKCr1</td>\n",
       "      <td>170813</td>\n",
       "      <td>89</td>\n",
       "      <td>0.658</td>\n",
       "      <td>0.0106</td>\n",
       "      <td>0.634</td>\n",
       "      <td>0.000000</td>\n",
       "      <td>0.1320</td>\n",
       "      <td>-5.797</td>\n",
       "      <td>0.0413</td>\n",
       "      <td>139.980</td>\n",
       "      <td>4</td>\n",
       "      <td>0</td>\n",
       "    </tr>\n",
       "    <tr>\n",
       "      <th>4</th>\n",
       "      <td>3Ofmpyhv5UAQ70mENzB277</td>\n",
       "      <td>132780</td>\n",
       "      <td>94</td>\n",
       "      <td>0.778</td>\n",
       "      <td>0.1750</td>\n",
       "      <td>0.695</td>\n",
       "      <td>0.000000</td>\n",
       "      <td>0.1500</td>\n",
       "      <td>-6.865</td>\n",
       "      <td>0.0913</td>\n",
       "      <td>149.996</td>\n",
       "      <td>4</td>\n",
       "      <td>0</td>\n",
       "    </tr>\n",
       "  </tbody>\n",
       "</table>\n",
       "</div>"
      ],
      "text/plain": [
       "                 track_id  length  popularity  danceability  acousticness  \\\n",
       "0  7MAibcTli4IisCtbHKrGMh  242096          90         0.586        0.1820   \n",
       "1  5QO79kh1waicV47BqGRL3g  215626          97         0.680        0.0212   \n",
       "2  1diS6nkxMQc3wwC4G1j0bh  165506          88         0.722        0.0319   \n",
       "3  4u4NyuceXP7Uzh7XFJKCr1  170813          89         0.658        0.0106   \n",
       "4  3Ofmpyhv5UAQ70mENzB277  132780          94         0.778        0.1750   \n",
       "\n",
       "   energy  instrumentalness  liveness  loudness  speechiness    tempo  \\\n",
       "0   0.616          0.000000    0.0927    -7.964       0.0324  148.088   \n",
       "1   0.826          0.000012    0.5430    -5.487       0.0309  118.051   \n",
       "2   0.588          0.000000    0.1830    -5.932       0.0544  134.010   \n",
       "3   0.634          0.000000    0.1320    -5.797       0.0413  139.980   \n",
       "4   0.695          0.000000    0.1500    -6.865       0.0913  149.996   \n",
       "\n",
       "   time_signature  favorite  \n",
       "0               4         0  \n",
       "1               4         0  \n",
       "2               4         0  \n",
       "3               4         0  \n",
       "4               4         0  "
      ]
     },
     "execution_count": 53,
     "metadata": {},
     "output_type": "execute_result"
    }
   ],
   "source": [
    "# Reloading the original dataframe to test the model on\n",
    "df = pd.read_csv('data/encoded_playlist_songs.csv')\n",
    "df.head()"
   ]
  },
  {
   "cell_type": "code",
   "execution_count": 54,
   "id": "a213b389",
   "metadata": {},
   "outputs": [],
   "source": [
    "# Predicting if a song is a favorite\n",
    "prob_preds = pipe.predict_proba(df.drop(['favorite','track_id'], axis=1))\n",
    "threshold = 0.50 # define threshold here\n",
    "preds = [1 if prob_preds[i][1]> threshold else 0 for i in range(len(prob_preds))]\n",
    "df['prediction'] = preds"
   ]
  },
  {
   "cell_type": "code",
   "execution_count": 55,
   "id": "8617dd63",
   "metadata": {},
   "outputs": [
    {
     "data": {
      "text/plain": [
       "0    8864\n",
       "1      19\n",
       "Name: prediction, dtype: int64"
      ]
     },
     "execution_count": 55,
     "metadata": {},
     "output_type": "execute_result"
    }
   ],
   "source": [
    "df['prediction'].value_counts()"
   ]
  },
  {
   "cell_type": "code",
   "execution_count": 56,
   "id": "b004ea6a",
   "metadata": {},
   "outputs": [],
   "source": [
    "import spotipy\n",
    "import spotipy.util as util\n",
    "from spotipy.oauth2 import SpotifyClientCredentials\n",
    "from spotipy import oauth2"
   ]
  },
  {
   "cell_type": "code",
   "execution_count": 57,
   "id": "920fd463",
   "metadata": {},
   "outputs": [],
   "source": [
    "cid = '84a918187a0d4fc5a66dd8e062fff899'\n",
    "secret = '9f4fea70be164dd7bb5ffcf653b33d29'\n",
    "redirect_uri='http://localhost:8080/callback/'\n",
    "username = 'egtrwnupl4nlhpsxae4aecqno'"
   ]
  },
  {
   "cell_type": "code",
   "execution_count": 58,
   "id": "ae83f1ba",
   "metadata": {},
   "outputs": [],
   "source": [
    "scope = 'user-top-read playlist-modify-private playlist-modify-public'\n",
    "token = util.prompt_for_user_token(username, scope, client_id=cid, client_secret=secret, redirect_uri=redirect_uri)\n",
    "\n",
    "if token:\n",
    "    sp = spotipy.Spotify(auth=token)\n",
    "else:\n",
    "    print(\"Can't get token for\", username)"
   ]
  },
  {
   "cell_type": "code",
   "execution_count": 59,
   "id": "a6d24793",
   "metadata": {},
   "outputs": [],
   "source": [
    "# Creating a function that builds a playlist in the user's spotify account\n",
    "def create_playlist(sp, username, playlist_name, playlist_description):\n",
    "    playlists = sp.user_playlist_create(username, playlist_name, description = playlist_description)"
   ]
  },
  {
   "cell_type": "code",
   "execution_count": 60,
   "id": "72da1835",
   "metadata": {},
   "outputs": [],
   "source": [
    "create_playlist(sp, username, 'Recommended songs', 'This playlist was created using python!')"
   ]
  },
  {
   "cell_type": "code",
   "execution_count": 61,
   "id": "7e824cde",
   "metadata": {},
   "outputs": [],
   "source": [
    "# Function to check if the playlist was created successfully\n",
    "def fetch_playlists(sp, username):\n",
    "    \"\"\"\n",
    "    Returns the user's playlists.\n",
    "    \"\"\"\n",
    "        \n",
    "    id = []\n",
    "    name = []\n",
    "    num_tracks = []\n",
    "    \n",
    "    # Make the API request\n",
    "    playlists = sp.user_playlists(username)\n",
    "    for playlist in playlists['items']:\n",
    "        id.append(playlist['id'])\n",
    "        name.append(playlist['name'])\n",
    "        num_tracks.append(playlist['tracks']['total'])\n",
    "\n",
    "    # Create the final df   \n",
    "    df_playlists = pd.DataFrame({\"id\":id, \"name\": name, \"#tracks\": num_tracks})\n",
    "    return df_playlists"
   ]
  },
  {
   "cell_type": "code",
   "execution_count": 62,
   "id": "e959ca77",
   "metadata": {},
   "outputs": [
    {
     "data": {
      "text/html": [
       "<div>\n",
       "<style scoped>\n",
       "    .dataframe tbody tr th:only-of-type {\n",
       "        vertical-align: middle;\n",
       "    }\n",
       "\n",
       "    .dataframe tbody tr th {\n",
       "        vertical-align: top;\n",
       "    }\n",
       "\n",
       "    .dataframe thead th {\n",
       "        text-align: right;\n",
       "    }\n",
       "</style>\n",
       "<table border=\"1\" class=\"dataframe\">\n",
       "  <thead>\n",
       "    <tr style=\"text-align: right;\">\n",
       "      <th></th>\n",
       "      <th>id</th>\n",
       "      <th>name</th>\n",
       "      <th>#tracks</th>\n",
       "    </tr>\n",
       "  </thead>\n",
       "  <tbody>\n",
       "    <tr>\n",
       "      <th>0</th>\n",
       "      <td>43P05htYppP9MFDW8bShiZ</td>\n",
       "      <td>Recommended songs</td>\n",
       "      <td>0</td>\n",
       "    </tr>\n",
       "    <tr>\n",
       "      <th>1</th>\n",
       "      <td>34wFlrH2OfxNdgLyOx4sTo</td>\n",
       "      <td>The Hills</td>\n",
       "      <td>5</td>\n",
       "    </tr>\n",
       "    <tr>\n",
       "      <th>2</th>\n",
       "      <td>6u5TNTlZ6YtUIT01f3NsIT</td>\n",
       "      <td>fuzzed up</td>\n",
       "      <td>30</td>\n",
       "    </tr>\n",
       "    <tr>\n",
       "      <th>3</th>\n",
       "      <td>3kjYCGSOvB1V6jPMmu1W6b</td>\n",
       "      <td>cryitout</td>\n",
       "      <td>85</td>\n",
       "    </tr>\n",
       "    <tr>\n",
       "      <th>4</th>\n",
       "      <td>36T3nuiYYF7NMOpe0ZWRy1</td>\n",
       "      <td>My top tracks(experimental)</td>\n",
       "      <td>50</td>\n",
       "    </tr>\n",
       "    <tr>\n",
       "      <th>5</th>\n",
       "      <td>5dNorCu0C8UlF2sK3cA1Tf</td>\n",
       "      <td>aasmaan</td>\n",
       "      <td>24</td>\n",
       "    </tr>\n",
       "    <tr>\n",
       "      <th>6</th>\n",
       "      <td>6mzqE0K2v1e3hTXC9lwokF</td>\n",
       "      <td>random</td>\n",
       "      <td>9</td>\n",
       "    </tr>\n",
       "    <tr>\n",
       "      <th>7</th>\n",
       "      <td>5qFMP93j18L5TZVuPp19d8</td>\n",
       "      <td>to be&lt;3</td>\n",
       "      <td>94</td>\n",
       "    </tr>\n",
       "    <tr>\n",
       "      <th>8</th>\n",
       "      <td>5pq0ceDjpbHIpLk1CSAuUq</td>\n",
       "      <td>playLIT</td>\n",
       "      <td>285</td>\n",
       "    </tr>\n",
       "    <tr>\n",
       "      <th>9</th>\n",
       "      <td>3gAVHi7zmjlVmeaCpg0hUb</td>\n",
       "      <td>butterflies</td>\n",
       "      <td>34</td>\n",
       "    </tr>\n",
       "  </tbody>\n",
       "</table>\n",
       "</div>"
      ],
      "text/plain": [
       "                       id                         name  #tracks\n",
       "0  43P05htYppP9MFDW8bShiZ            Recommended songs        0\n",
       "1  34wFlrH2OfxNdgLyOx4sTo                    The Hills        5\n",
       "2  6u5TNTlZ6YtUIT01f3NsIT                    fuzzed up       30\n",
       "3  3kjYCGSOvB1V6jPMmu1W6b                     cryitout       85\n",
       "4  36T3nuiYYF7NMOpe0ZWRy1  My top tracks(experimental)       50\n",
       "5  5dNorCu0C8UlF2sK3cA1Tf                      aasmaan       24\n",
       "6  6mzqE0K2v1e3hTXC9lwokF                       random        9\n",
       "7  5qFMP93j18L5TZVuPp19d8                      to be<3       94\n",
       "8  5pq0ceDjpbHIpLk1CSAuUq                      playLIT      285\n",
       "9  3gAVHi7zmjlVmeaCpg0hUb                  butterflies       34"
      ]
     },
     "execution_count": 62,
     "metadata": {},
     "output_type": "execute_result"
    }
   ],
   "source": [
    "fetch_playlists(sp,username)"
   ]
  },
  {
   "cell_type": "code",
   "execution_count": 63,
   "id": "0e6525e9",
   "metadata": {},
   "outputs": [],
   "source": [
    "# Getting the playlist ID of the most recently made playlist so we can add songs to it later\n",
    "playlist_id = fetch_playlists(sp,username)['id'][0]"
   ]
  },
  {
   "cell_type": "code",
   "execution_count": 64,
   "id": "0b609fb5",
   "metadata": {},
   "outputs": [],
   "source": [
    "# Function to add selected songs to playlist\n",
    "def enrich_playlist(sp, username, playlist_id, playlist_tracks):\n",
    "    index = 0\n",
    "    results = []\n",
    "    \n",
    "    while index < len(playlist_tracks):\n",
    "        results += sp.user_playlist_add_tracks(username, playlist_id, tracks = playlist_tracks[index:index + 50])\n",
    "        index += 50"
   ]
  },
  {
   "cell_type": "code",
   "execution_count": 65,
   "id": "2adc72dc",
   "metadata": {},
   "outputs": [],
   "source": [
    "# Adding songs to playlist\n",
    "list_track = df.loc[df['prediction']  == 1]['track_id']\n",
    "enrich_playlist(sp, username, playlist_id, list_track)"
   ]
  },
  {
   "cell_type": "markdown",
   "id": "119e7e8e",
   "metadata": {},
   "source": [
    "Playlist link: https://open.spotify.com/playlist/43P05htYppP9MFDW8bShiZ?si=0aad5e201deb4316"
   ]
  },
  {
   "cell_type": "code",
   "execution_count": null,
   "id": "5345bd5e",
   "metadata": {},
   "outputs": [],
   "source": []
  }
 ],
 "metadata": {
  "kernelspec": {
   "display_name": "Python 3 (ipykernel)",
   "language": "python",
   "name": "python3"
  },
  "language_info": {
   "codemirror_mode": {
    "name": "ipython",
    "version": 3
   },
   "file_extension": ".py",
   "mimetype": "text/x-python",
   "name": "python",
   "nbconvert_exporter": "python",
   "pygments_lexer": "ipython3",
   "version": "3.9.12"
  }
 },
 "nbformat": 4,
 "nbformat_minor": 5
}
